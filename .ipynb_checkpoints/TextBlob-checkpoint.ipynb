{
 "cells": [
  {
   "cell_type": "code",
   "execution_count": 1,
   "id": "cf0138c8",
   "metadata": {},
   "outputs": [
    {
     "name": "stdout",
     "output_type": "stream",
     "text": [
      "Requirement already satisfied: textblob in c:\\users\\rodri\\anaconda3\\lib\\site-packages (0.17.1)\n",
      "Requirement already satisfied: nltk>=3.1 in c:\\users\\rodri\\anaconda3\\lib\\site-packages (from textblob) (3.7)\n",
      "Requirement already satisfied: tqdm in c:\\users\\rodri\\anaconda3\\lib\\site-packages (from nltk>=3.1->textblob) (4.64.0)\n",
      "Requirement already satisfied: joblib in c:\\users\\rodri\\anaconda3\\lib\\site-packages (from nltk>=3.1->textblob) (1.1.0)\n",
      "Requirement already satisfied: click in c:\\users\\rodri\\anaconda3\\lib\\site-packages (from nltk>=3.1->textblob) (8.1.3)\n",
      "Requirement already satisfied: regex>=2021.8.3 in c:\\users\\rodri\\anaconda3\\lib\\site-packages (from nltk>=3.1->textblob) (2022.3.15)\n",
      "Requirement already satisfied: colorama in c:\\users\\rodri\\anaconda3\\lib\\site-packages (from click->nltk>=3.1->textblob) (0.4.4)\n"
     ]
    }
   ],
   "source": [
    "!pip install -U textblob"
   ]
  },
  {
   "cell_type": "code",
   "execution_count": 2,
   "id": "11ce0bcb",
   "metadata": {},
   "outputs": [
    {
     "name": "stderr",
     "output_type": "stream",
     "text": [
      "[nltk_data] Downloading package averaged_perceptron_tagger to\n",
      "[nltk_data]     C:\\Users\\rodri\\AppData\\Roaming\\nltk_data...\n",
      "[nltk_data]   Package averaged_perceptron_tagger is already up-to-\n",
      "[nltk_data]       date!\n",
      "[nltk_data] Downloading package brown to\n",
      "[nltk_data]     C:\\Users\\rodri\\AppData\\Roaming\\nltk_data...\n",
      "[nltk_data]   Package brown is already up-to-date!\n"
     ]
    },
    {
     "data": {
      "text/plain": [
       "True"
      ]
     },
     "execution_count": 2,
     "metadata": {},
     "output_type": "execute_result"
    }
   ],
   "source": [
    "import nltk\n",
    "nltk.download('averaged_perceptron_tagger')\n",
    "nltk.download('brown')"
   ]
  },
  {
   "cell_type": "code",
   "execution_count": 3,
   "id": "3ab615cf",
   "metadata": {},
   "outputs": [],
   "source": [
    "from textblob import TextBlob"
   ]
  },
  {
   "cell_type": "code",
   "execution_count": 4,
   "id": "65e4a5c2",
   "metadata": {},
   "outputs": [],
   "source": [
    "frase = TextBlob(\"TextBlog is a greating tool for learning NLP\")"
   ]
  },
  {
   "cell_type": "code",
   "execution_count": 5,
   "id": "eef4adc8",
   "metadata": {},
   "outputs": [
    {
     "data": {
      "text/plain": [
       "TextBlob(\"TextBlog is a greating tool for learning NLP\")"
      ]
     },
     "execution_count": 5,
     "metadata": {},
     "output_type": "execute_result"
    }
   ],
   "source": [
    "frase"
   ]
  },
  {
   "cell_type": "code",
   "execution_count": 6,
   "id": "c022ca77",
   "metadata": {},
   "outputs": [
    {
     "data": {
      "text/plain": [
       "textblob.blob.TextBlob"
      ]
     },
     "execution_count": 6,
     "metadata": {},
     "output_type": "execute_result"
    }
   ],
   "source": [
    "type(frase)"
   ]
  },
  {
   "cell_type": "code",
   "execution_count": 7,
   "id": "2e77e126",
   "metadata": {},
   "outputs": [
    {
     "data": {
      "text/plain": [
       "[('TextBlog', 'NNP'),\n",
       " ('is', 'VBZ'),\n",
       " ('a', 'DT'),\n",
       " ('greating', 'VBG'),\n",
       " ('tool', 'NN'),\n",
       " ('for', 'IN'),\n",
       " ('learning', 'VBG'),\n",
       " ('NLP', 'NNP')]"
      ]
     },
     "execution_count": 7,
     "metadata": {},
     "output_type": "execute_result"
    }
   ],
   "source": [
    "frase.tags"
   ]
  },
  {
   "cell_type": "markdown",
   "id": "1a0fa122",
   "metadata": {},
   "source": [
    "![alt text](Classificacao.png \"Title\")"
   ]
  },
  {
   "cell_type": "markdown",
   "id": "946194a6",
   "metadata": {},
   "source": [
    "# Tokenização"
   ]
  },
  {
   "cell_type": "code",
   "execution_count": 8,
   "id": "00f8397f",
   "metadata": {},
   "outputs": [
    {
     "data": {
      "text/plain": [
       "[Sentence(\"TextBlog is a greating tool for learning NLP\")]"
      ]
     },
     "execution_count": 8,
     "metadata": {},
     "output_type": "execute_result"
    }
   ],
   "source": [
    "frase.sentences"
   ]
  },
  {
   "cell_type": "code",
   "execution_count": 9,
   "id": "25920557",
   "metadata": {},
   "outputs": [
    {
     "data": {
      "text/plain": [
       "WordList(['TextBlog', 'is', 'a', 'greating', 'tool', 'for', 'learning', 'NLP'])"
      ]
     },
     "execution_count": 9,
     "metadata": {},
     "output_type": "execute_result"
    }
   ],
   "source": [
    "frase.words"
   ]
  },
  {
   "cell_type": "code",
   "execution_count": 10,
   "id": "66c2a850",
   "metadata": {},
   "outputs": [
    {
     "data": {
      "text/plain": [
       "defaultdict(int,\n",
       "            {'textblog': 1,\n",
       "             'is': 1,\n",
       "             'a': 1,\n",
       "             'greating': 1,\n",
       "             'tool': 1,\n",
       "             'for': 1,\n",
       "             'learning': 1,\n",
       "             'nlp': 1})"
      ]
     },
     "execution_count": 10,
     "metadata": {},
     "output_type": "execute_result"
    }
   ],
   "source": [
    "frase.word_counts"
   ]
  },
  {
   "cell_type": "markdown",
   "id": "ccf121df",
   "metadata": {},
   "source": [
    "# Correção Gramatical\n"
   ]
  },
  {
   "cell_type": "code",
   "execution_count": 11,
   "id": "b429fb9b",
   "metadata": {},
   "outputs": [],
   "source": [
    "frase2 = TextBlob(\"I want to pley a game\")"
   ]
  },
  {
   "cell_type": "code",
   "execution_count": 12,
   "id": "b3e924a5",
   "metadata": {},
   "outputs": [
    {
     "data": {
      "text/plain": [
       "TextBlob(\"I want to play a game\")"
      ]
     },
     "execution_count": 12,
     "metadata": {},
     "output_type": "execute_result"
    }
   ],
   "source": [
    "frase2.correct()"
   ]
  },
  {
   "cell_type": "code",
   "execution_count": 13,
   "id": "33b96ebd",
   "metadata": {},
   "outputs": [
    {
     "data": {
      "text/plain": [
       "TextBlob(\"I want to pley a game\")"
      ]
     },
     "execution_count": 13,
     "metadata": {},
     "output_type": "execute_result"
    }
   ],
   "source": [
    "frase2"
   ]
  },
  {
   "cell_type": "code",
   "execution_count": 14,
   "id": "2df1f02f",
   "metadata": {},
   "outputs": [
    {
     "data": {
      "text/plain": [
       "'I'"
      ]
     },
     "execution_count": 14,
     "metadata": {},
     "output_type": "execute_result"
    }
   ],
   "source": [
    "frase2[0]"
   ]
  },
  {
   "cell_type": "code",
   "execution_count": 15,
   "id": "f959f736",
   "metadata": {},
   "outputs": [
    {
     "data": {
      "text/plain": [
       "'w'"
      ]
     },
     "execution_count": 15,
     "metadata": {},
     "output_type": "execute_result"
    }
   ],
   "source": [
    "frase2[2]"
   ]
  },
  {
   "cell_type": "code",
   "execution_count": 16,
   "id": "24de6cf0",
   "metadata": {},
   "outputs": [
    {
     "data": {
      "text/plain": [
       "WordList(['I', 'want', 'to', 'pley', 'a', 'game'])"
      ]
     },
     "execution_count": 16,
     "metadata": {},
     "output_type": "execute_result"
    }
   ],
   "source": [
    "frase2.words"
   ]
  },
  {
   "cell_type": "code",
   "execution_count": 17,
   "id": "76da020a",
   "metadata": {},
   "outputs": [
    {
     "data": {
      "text/plain": [
       "[('play', 0.7251908396946565),\n",
       " ('plea', 0.15267175572519084),\n",
       " ('prey', 0.10687022900763359),\n",
       " ('ply', 0.007633587786259542),\n",
       " ('eley', 0.007633587786259542)]"
      ]
     },
     "execution_count": 17,
     "metadata": {},
     "output_type": "execute_result"
    }
   ],
   "source": [
    "frase2.words[3].spellcheck()"
   ]
  },
  {
   "cell_type": "markdown",
   "id": "f7e7d3fc",
   "metadata": {},
   "source": [
    "# Sentimento"
   ]
  },
  {
   "cell_type": "code",
   "execution_count": 18,
   "id": "2868f609",
   "metadata": {},
   "outputs": [],
   "source": [
    "text = TextBlob(\"Textblob is simple to use\")"
   ]
  },
  {
   "cell_type": "code",
   "execution_count": 19,
   "id": "4a6e6d49",
   "metadata": {},
   "outputs": [
    {
     "data": {
      "text/plain": [
       "Sentiment(polarity=0.0, subjectivity=0.35714285714285715)"
      ]
     },
     "execution_count": 19,
     "metadata": {},
     "output_type": "execute_result"
    }
   ],
   "source": [
    "text.sentiment"
   ]
  },
  {
   "cell_type": "code",
   "execution_count": 20,
   "id": "e1aefee6",
   "metadata": {},
   "outputs": [],
   "source": [
    "text2 = TextBlob(\"Brazil is an amazing country!\")"
   ]
  },
  {
   "cell_type": "code",
   "execution_count": 21,
   "id": "4c6a3f4e",
   "metadata": {},
   "outputs": [
    {
     "data": {
      "text/plain": [
       "Sentiment(polarity=0.7500000000000001, subjectivity=0.9)"
      ]
     },
     "execution_count": 21,
     "metadata": {},
     "output_type": "execute_result"
    }
   ],
   "source": [
    "text2.sentiment"
   ]
  },
  {
   "cell_type": "code",
   "execution_count": null,
   "id": "5fd56868",
   "metadata": {},
   "outputs": [],
   "source": []
  }
 ],
 "metadata": {
  "kernelspec": {
   "display_name": "Python 3 (ipykernel)",
   "language": "python",
   "name": "python3"
  },
  "language_info": {
   "codemirror_mode": {
    "name": "ipython",
    "version": 3
   },
   "file_extension": ".py",
   "mimetype": "text/x-python",
   "name": "python",
   "nbconvert_exporter": "python",
   "pygments_lexer": "ipython3",
   "version": "3.9.12"
  }
 },
 "nbformat": 4,
 "nbformat_minor": 5
}
