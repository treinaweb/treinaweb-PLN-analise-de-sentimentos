{
 "cells": [
  {
   "cell_type": "code",
   "execution_count": 1,
   "id": "06008cd5",
   "metadata": {},
   "outputs": [],
   "source": [
    "treino = [\n",
    "('I love this sandwich', 'pos'),\n",
    "('This is an amazing place', 'pos'),\n",
    "('I feel very good about these beers', 'pos'),\n",
    "('This is my best work', 'pos'),\n",
    "('I do not like this restaurant', 'neg'),\n",
    "('I am tired of this stuff', 'neg'),\n",
    "(\"I can't deal with this\", 'neg'),\n",
    "('my boss is horrible', 'neg')\n",
    "]"
   ]
  },
  {
   "cell_type": "code",
   "execution_count": 2,
   "id": "2106d8a3",
   "metadata": {},
   "outputs": [],
   "source": [
    "teste = [\n",
    "    ('the juice was good', 'pos'),\n",
    "    ('I do not enjoy my job', 'neg'),\n",
    "    ('I feel amazing', 'pos'),\n",
    "    ('Gary is a friend of mine', 'pos'),\n",
    "    (\"I can't believe\", 'neg')\n",
    "]"
   ]
  },
  {
   "cell_type": "markdown",
   "id": "619d63f1",
   "metadata": {},
   "source": [
    "# Treinamento Modelo"
   ]
  },
  {
   "cell_type": "code",
   "execution_count": 3,
   "id": "0eb37433",
   "metadata": {},
   "outputs": [],
   "source": [
    "from textblob.classifiers import NaiveBayesClassifier"
   ]
  },
  {
   "cell_type": "code",
   "execution_count": 4,
   "id": "b1a11be8",
   "metadata": {},
   "outputs": [],
   "source": [
    "nbc = NaiveBayesClassifier(treino)"
   ]
  },
  {
   "cell_type": "code",
   "execution_count": 5,
   "id": "7f37f0f0",
   "metadata": {},
   "outputs": [
    {
     "data": {
      "text/plain": [
       "<NaiveBayesClassifier trained on 8 instances>"
      ]
     },
     "execution_count": 5,
     "metadata": {},
     "output_type": "execute_result"
    }
   ],
   "source": [
    "nbc"
   ]
  },
  {
   "cell_type": "code",
   "execution_count": null,
   "id": "a6e0c327",
   "metadata": {},
   "outputs": [],
   "source": [
    "with open('train.json', 'r') as fp:\n",
    "    nbc = NaiveBayesClassifier(fp, format=\"json\")"
   ]
  },
  {
   "cell_type": "markdown",
   "id": "32354fcf",
   "metadata": {},
   "source": [
    "# Classificação de Texto"
   ]
  },
  {
   "cell_type": "code",
   "execution_count": 7,
   "id": "03c1eca1",
   "metadata": {},
   "outputs": [
    {
     "data": {
      "text/plain": [
       "'pos'"
      ]
     },
     "execution_count": 7,
     "metadata": {},
     "output_type": "execute_result"
    }
   ],
   "source": [
    "nbc.classify(\"This is an amazing library!\")"
   ]
  },
  {
   "cell_type": "code",
   "execution_count": 8,
   "id": "52775f39",
   "metadata": {},
   "outputs": [],
   "source": [
    "prob_dist = nbc.prob_classify(\"This is an amazing library!\")"
   ]
  },
  {
   "cell_type": "code",
   "execution_count": 9,
   "id": "0d83bd8c",
   "metadata": {},
   "outputs": [
    {
     "data": {
      "text/plain": [
       "'pos'"
      ]
     },
     "execution_count": 9,
     "metadata": {},
     "output_type": "execute_result"
    }
   ],
   "source": [
    "prob_dist.max()"
   ]
  },
  {
   "cell_type": "code",
   "execution_count": 10,
   "id": "ea5c9553",
   "metadata": {},
   "outputs": [
    {
     "data": {
      "text/plain": [
       "1.0"
      ]
     },
     "execution_count": 10,
     "metadata": {},
     "output_type": "execute_result"
    }
   ],
   "source": [
    "round(prob_dist.prob(\"pos\"), 2)"
   ]
  },
  {
   "cell_type": "code",
   "execution_count": 11,
   "id": "ec5538c9",
   "metadata": {},
   "outputs": [
    {
     "data": {
      "text/plain": [
       "0.0"
      ]
     },
     "execution_count": 11,
     "metadata": {},
     "output_type": "execute_result"
    }
   ],
   "source": [
    "round(prob_dist.prob(\"neg\"), 2)"
   ]
  },
  {
   "cell_type": "code",
   "execution_count": 12,
   "id": "3ffd5dcd",
   "metadata": {},
   "outputs": [],
   "source": [
    "prob_dist2 = nbc.prob_classify(\"This looks bad\")"
   ]
  },
  {
   "cell_type": "code",
   "execution_count": 13,
   "id": "1ba5da4b",
   "metadata": {},
   "outputs": [
    {
     "data": {
      "text/plain": [
       "'pos'"
      ]
     },
     "execution_count": 13,
     "metadata": {},
     "output_type": "execute_result"
    }
   ],
   "source": [
    "prob_dist2.max()"
   ]
  },
  {
   "cell_type": "code",
   "execution_count": 14,
   "id": "2a117d52",
   "metadata": {},
   "outputs": [
    {
     "data": {
      "text/plain": [
       "0.95"
      ]
     },
     "execution_count": 14,
     "metadata": {},
     "output_type": "execute_result"
    }
   ],
   "source": [
    "round(prob_dist2.prob(\"pos\"), 2)"
   ]
  },
  {
   "cell_type": "code",
   "execution_count": 15,
   "id": "c2636fd5",
   "metadata": {},
   "outputs": [
    {
     "data": {
      "text/plain": [
       "0.05"
      ]
     },
     "execution_count": 15,
     "metadata": {},
     "output_type": "execute_result"
    }
   ],
   "source": [
    "round(prob_dist2.prob(\"neg\"), 2)"
   ]
  },
  {
   "cell_type": "code",
   "execution_count": 16,
   "id": "91fc7aba",
   "metadata": {},
   "outputs": [],
   "source": [
    "from textblob import TextBlob"
   ]
  },
  {
   "cell_type": "code",
   "execution_count": 17,
   "id": "08382295",
   "metadata": {},
   "outputs": [],
   "source": [
    "blob = TextBlob(\"The drink is good. But the cake is horrible\", classifier=nbc)"
   ]
  },
  {
   "cell_type": "code",
   "execution_count": 18,
   "id": "d4670aff",
   "metadata": {},
   "outputs": [
    {
     "data": {
      "text/plain": [
       "TextBlob(\"The drink is good. But the cake is horrible\")"
      ]
     },
     "execution_count": 18,
     "metadata": {},
     "output_type": "execute_result"
    }
   ],
   "source": [
    "blob"
   ]
  },
  {
   "cell_type": "code",
   "execution_count": 19,
   "id": "bc43498b",
   "metadata": {},
   "outputs": [
    {
     "data": {
      "text/plain": [
       "[Sentence(\"The drink is good.\"), Sentence(\"But the cake is horrible\")]"
      ]
     },
     "execution_count": 19,
     "metadata": {},
     "output_type": "execute_result"
    }
   ],
   "source": [
    "blob.sentences"
   ]
  },
  {
   "cell_type": "code",
   "execution_count": 20,
   "id": "93285da5",
   "metadata": {},
   "outputs": [
    {
     "name": "stdout",
     "output_type": "stream",
     "text": [
      "The drink is good.\n",
      "pos\n",
      "But the cake is horrible\n",
      "pos\n"
     ]
    }
   ],
   "source": [
    "for s in blob.sentences:\n",
    "    print(s)\n",
    "    print(s.classify())"
   ]
  },
  {
   "cell_type": "code",
   "execution_count": 21,
   "id": "d8091188",
   "metadata": {},
   "outputs": [
    {
     "data": {
      "text/plain": [
       "1.0"
      ]
     },
     "execution_count": 21,
     "metadata": {},
     "output_type": "execute_result"
    }
   ],
   "source": [
    "nbc.accuracy(teste)"
   ]
  },
  {
   "cell_type": "markdown",
   "id": "d95bc6ad",
   "metadata": {},
   "source": [
    "# Incrementando Treinamento "
   ]
  },
  {
   "cell_type": "code",
   "execution_count": 22,
   "id": "390530ff",
   "metadata": {},
   "outputs": [],
   "source": [
    "novos_dados = [\n",
    "    ('She is my best friend', 'pos'),\n",
    "    (\"I'm happpy to have a new friend\", 'pos'),\n",
    "    (\"I'm scarred of my new job\", 'neg'),\n",
    "    (\"This library is good\", 'pos')\n",
    "]"
   ]
  },
  {
   "cell_type": "code",
   "execution_count": 23,
   "id": "a4f792e7",
   "metadata": {},
   "outputs": [
    {
     "data": {
      "text/plain": [
       "True"
      ]
     },
     "execution_count": 23,
     "metadata": {},
     "output_type": "execute_result"
    }
   ],
   "source": [
    "nbc.update(novos_dados)"
   ]
  },
  {
   "cell_type": "code",
   "execution_count": 24,
   "id": "54ce699a",
   "metadata": {},
   "outputs": [
    {
     "data": {
      "text/plain": [
       "1.0"
      ]
     },
     "execution_count": 24,
     "metadata": {},
     "output_type": "execute_result"
    }
   ],
   "source": [
    "nbc.accuracy(teste)"
   ]
  },
  {
   "cell_type": "code",
   "execution_count": null,
   "id": "1c9db17d",
   "metadata": {},
   "outputs": [],
   "source": []
  }
 ],
 "metadata": {
  "kernelspec": {
   "display_name": "Python 3 (ipykernel)",
   "language": "python",
   "name": "python3"
  },
  "language_info": {
   "codemirror_mode": {
    "name": "ipython",
    "version": 3
   },
   "file_extension": ".py",
   "mimetype": "text/x-python",
   "name": "python",
   "nbconvert_exporter": "python",
   "pygments_lexer": "ipython3",
   "version": "3.9.12"
  }
 },
 "nbformat": 4,
 "nbformat_minor": 5
}
