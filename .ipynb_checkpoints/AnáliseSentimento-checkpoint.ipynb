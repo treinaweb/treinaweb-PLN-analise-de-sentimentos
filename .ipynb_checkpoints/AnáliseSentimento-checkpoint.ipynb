{
 "cells": [
  {
   "cell_type": "code",
   "execution_count": 1,
   "id": "7ebb971c",
   "metadata": {},
   "outputs": [],
   "source": [
    "treino = [\n",
    "('I love this sandwich', 'pos'),\n",
    "('This is an amazing place', 'pos'),\n",
    "('I feel very good about these beers', 'pos'),\n",
    "('This is my best work', 'pos'),\n",
    "('I do not like this restaurant', 'neg'),\n",
    "('I am tired of this stuff', 'neg'),\n",
    "(\"I can't deal with this\", 'neg'),\n",
    "('my boss is horrible', 'neg')\n",
    "]"
   ]
  },
  {
   "cell_type": "code",
   "execution_count": 2,
   "id": "6e893eb2",
   "metadata": {},
   "outputs": [],
   "source": [
    "teste = [\n",
    "    ('the juice was good', 'pos'),\n",
    "    ('I do not enjoy my job', 'neg'),\n",
    "    ('I feel amazing', 'pos'),\n",
    "    ('Gary is a friend of mine', 'pos'),\n",
    "    (\"I can't believe\", 'neg')\n",
    "]"
   ]
  },
  {
   "cell_type": "markdown",
   "id": "73a58b5b",
   "metadata": {},
   "source": [
    "# Treinamento Modelo"
   ]
  },
  {
   "cell_type": "code",
   "execution_count": 3,
   "id": "ad0b046a",
   "metadata": {},
   "outputs": [],
   "source": [
    "from textblob.classifiers import NaiveBayesClassifier"
   ]
  },
  {
   "cell_type": "code",
   "execution_count": 4,
   "id": "f33a131d",
   "metadata": {},
   "outputs": [],
   "source": [
    "nbc = NaiveBayesClassifier(treino)"
   ]
  },
  {
   "cell_type": "code",
   "execution_count": 5,
   "id": "00ba757c",
   "metadata": {},
   "outputs": [
    {
     "data": {
      "text/plain": [
       "<NaiveBayesClassifier trained on 8 instances>"
      ]
     },
     "execution_count": 5,
     "metadata": {},
     "output_type": "execute_result"
    }
   ],
   "source": [
    "nbc"
   ]
  },
  {
   "cell_type": "code",
   "execution_count": null,
   "id": "94ae3456",
   "metadata": {},
   "outputs": [],
   "source": [
    "with open('train.json', 'r') as fp:\n",
    "    nbc = NaiveBayesClassifier(fp, format=\"json\")"
   ]
  },
  {
   "cell_type": "markdown",
   "id": "50bba942",
   "metadata": {},
   "source": [
    "# Classificação de Texto"
   ]
  },
  {
   "cell_type": "code",
   "execution_count": 7,
   "id": "a8d4b422",
   "metadata": {},
   "outputs": [
    {
     "data": {
      "text/plain": [
       "'pos'"
      ]
     },
     "execution_count": 7,
     "metadata": {},
     "output_type": "execute_result"
    }
   ],
   "source": [
    "nbc.classify(\"This is an amazing library!\")"
   ]
  },
  {
   "cell_type": "code",
   "execution_count": 8,
   "id": "4141dfc3",
   "metadata": {},
   "outputs": [],
   "source": [
    "prob_dist = nbc.prob_classify(\"This is an amazing library!\")"
   ]
  },
  {
   "cell_type": "code",
   "execution_count": 9,
   "id": "068e0429",
   "metadata": {},
   "outputs": [
    {
     "data": {
      "text/plain": [
       "'pos'"
      ]
     },
     "execution_count": 9,
     "metadata": {},
     "output_type": "execute_result"
    }
   ],
   "source": [
    "prob_dist.max()"
   ]
  },
  {
   "cell_type": "code",
   "execution_count": 10,
   "id": "f8e0d7af",
   "metadata": {},
   "outputs": [
    {
     "data": {
      "text/plain": [
       "1.0"
      ]
     },
     "execution_count": 10,
     "metadata": {},
     "output_type": "execute_result"
    }
   ],
   "source": [
    "round(prob_dist.prob(\"pos\"), 2)"
   ]
  },
  {
   "cell_type": "code",
   "execution_count": 11,
   "id": "f4f37333",
   "metadata": {},
   "outputs": [
    {
     "data": {
      "text/plain": [
       "0.0"
      ]
     },
     "execution_count": 11,
     "metadata": {},
     "output_type": "execute_result"
    }
   ],
   "source": [
    "round(prob_dist.prob(\"neg\"), 2)"
   ]
  },
  {
   "cell_type": "code",
   "execution_count": 12,
   "id": "bb5c9a35",
   "metadata": {},
   "outputs": [],
   "source": [
    "prob_dist2 = nbc.prob_classify(\"This looks bad\")"
   ]
  },
  {
   "cell_type": "code",
   "execution_count": 13,
   "id": "f35c9492",
   "metadata": {},
   "outputs": [
    {
     "data": {
      "text/plain": [
       "'pos'"
      ]
     },
     "execution_count": 13,
     "metadata": {},
     "output_type": "execute_result"
    }
   ],
   "source": [
    "prob_dist2.max()"
   ]
  },
  {
   "cell_type": "code",
   "execution_count": 14,
   "id": "81de7485",
   "metadata": {},
   "outputs": [
    {
     "data": {
      "text/plain": [
       "0.95"
      ]
     },
     "execution_count": 14,
     "metadata": {},
     "output_type": "execute_result"
    }
   ],
   "source": [
    "round(prob_dist2.prob(\"pos\"), 2)"
   ]
  },
  {
   "cell_type": "code",
   "execution_count": 15,
   "id": "feed282e",
   "metadata": {},
   "outputs": [
    {
     "data": {
      "text/plain": [
       "0.05"
      ]
     },
     "execution_count": 15,
     "metadata": {},
     "output_type": "execute_result"
    }
   ],
   "source": [
    "round(prob_dist2.prob(\"neg\"), 2)"
   ]
  },
  {
   "cell_type": "code",
   "execution_count": 16,
   "id": "5afa1c55",
   "metadata": {},
   "outputs": [],
   "source": [
    "from textblob import TextBlob"
   ]
  },
  {
   "cell_type": "code",
   "execution_count": 17,
   "id": "ea95f8c6",
   "metadata": {},
   "outputs": [],
   "source": [
    "blob = TextBlob(\"The drink is good. But the cake is horrible\", classifier=nbc)"
   ]
  },
  {
   "cell_type": "code",
   "execution_count": 18,
   "id": "d3c1c9af",
   "metadata": {},
   "outputs": [
    {
     "data": {
      "text/plain": [
       "TextBlob(\"The drink is good. But the cake is horrible\")"
      ]
     },
     "execution_count": 18,
     "metadata": {},
     "output_type": "execute_result"
    }
   ],
   "source": [
    "blob"
   ]
  },
  {
   "cell_type": "code",
   "execution_count": 19,
   "id": "7681a81a",
   "metadata": {},
   "outputs": [
    {
     "data": {
      "text/plain": [
       "[Sentence(\"The drink is good.\"), Sentence(\"But the cake is horrible\")]"
      ]
     },
     "execution_count": 19,
     "metadata": {},
     "output_type": "execute_result"
    }
   ],
   "source": [
    "blob.sentences"
   ]
  },
  {
   "cell_type": "code",
   "execution_count": 20,
   "id": "32d55bd7",
   "metadata": {},
   "outputs": [
    {
     "name": "stdout",
     "output_type": "stream",
     "text": [
      "The drink is good.\n",
      "pos\n",
      "But the cake is horrible\n",
      "pos\n"
     ]
    }
   ],
   "source": [
    "for s in blob.sentences:\n",
    "    print(s)\n",
    "    print(s.classify())"
   ]
  },
  {
   "cell_type": "code",
   "execution_count": 21,
   "id": "a3597a35",
   "metadata": {},
   "outputs": [
    {
     "data": {
      "text/plain": [
       "1.0"
      ]
     },
     "execution_count": 21,
     "metadata": {},
     "output_type": "execute_result"
    }
   ],
   "source": [
    "nbc.accuracy(teste)"
   ]
  },
  {
   "cell_type": "code",
   "execution_count": null,
   "id": "faa74f2a",
   "metadata": {},
   "outputs": [],
   "source": []
  }
 ],
 "metadata": {
  "kernelspec": {
   "display_name": "Python 3 (ipykernel)",
   "language": "python",
   "name": "python3"
  },
  "language_info": {
   "codemirror_mode": {
    "name": "ipython",
    "version": 3
   },
   "file_extension": ".py",
   "mimetype": "text/x-python",
   "name": "python",
   "nbconvert_exporter": "python",
   "pygments_lexer": "ipython3",
   "version": "3.9.12"
  }
 },
 "nbformat": 4,
 "nbformat_minor": 5
}
