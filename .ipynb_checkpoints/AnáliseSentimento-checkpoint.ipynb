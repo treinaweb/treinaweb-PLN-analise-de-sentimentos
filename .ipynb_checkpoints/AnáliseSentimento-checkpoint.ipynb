{
 "cells": [
  {
   "cell_type": "code",
   "execution_count": 1,
   "id": "4015639b",
   "metadata": {},
   "outputs": [],
   "source": [
    "treino = [\n",
    "('I love this sandwich', 'pos'),\n",
    "('This is an amazing place', 'pos'),\n",
    "('I feel very good about these beers', 'pos'),\n",
    "('This is my best work', 'pos'),\n",
    "('I do not like this restaurant', 'neg'),\n",
    "('I am tired of this stuff', 'neg'),\n",
    "(\"I can't deal with this\", 'neg'),\n",
    "('my boss is horrible', 'neg')\n",
    "]"
   ]
  },
  {
   "cell_type": "code",
   "execution_count": 2,
   "id": "4e9cb105",
   "metadata": {},
   "outputs": [],
   "source": [
    "teste = [\n",
    "    ('the juice was good', 'pos'),\n",
    "    ('I do not enjoy my job', 'neg'),\n",
    "    ('I feel amazing', 'pos'),\n",
    "    ('Gary is a friend of mine', 'pos'),\n",
    "    (\"I can't believe\", 'neg')\n",
    "]"
   ]
  },
  {
   "cell_type": "code",
   "execution_count": null,
   "id": "0244f290",
   "metadata": {},
   "outputs": [],
   "source": []
  }
 ],
 "metadata": {
  "kernelspec": {
   "display_name": "Python 3 (ipykernel)",
   "language": "python",
   "name": "python3"
  },
  "language_info": {
   "codemirror_mode": {
    "name": "ipython",
    "version": 3
   },
   "file_extension": ".py",
   "mimetype": "text/x-python",
   "name": "python",
   "nbconvert_exporter": "python",
   "pygments_lexer": "ipython3",
   "version": "3.9.12"
  }
 },
 "nbformat": 4,
 "nbformat_minor": 5
}
